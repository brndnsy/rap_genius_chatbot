{
 "cells": [
  {
   "cell_type": "markdown",
   "metadata": {},
   "source": [
    "# Chatbot Component 2 - Named Entity Recognition (part 1)\n",
    "\n",
    "### CoQA - A Conversational Question Answering Challenge\n",
    "\n",
    "https://stanfordnlp.github.io/coqa/ \n",
    "\n",
    "https://paperswithcode.com/dataset/coqa\n",
    "\n",
    "\n",
    "This notebook concerns looking at the above dataset, and includes the following: \n",
    "* A through exploratory data analysis\n",
    "* pre-processing e.g. stemming vs lemmatisation\n",
    "* visualisations \n",
    "\n",
    "\n",
    "\n",
    "###### Student: Brandon Charles (6300028)"
   ]
  },
  {
   "cell_type": "code",
   "execution_count": 56,
   "metadata": {},
   "outputs": [
    {
     "data": {
      "text/plain": [
       "'/Volumes/T7/MSc DS 22/Natural Language Processing/chatbot_nlp_assignment/experimentation/notebooks/named_entity_recognition'"
      ]
     },
     "execution_count": 56,
     "metadata": {},
     "output_type": "execute_result"
    }
   ],
   "source": [
    "import os\n",
    "import re\n",
    "import nltk\n",
    "\n",
    "import pandas as pd\n",
    "import spacy\n",
    "import lemminflect # spacy add-on\n",
    "import matplotlib.pyplot as plt\n",
    "from nltk.stem.porter import *\n",
    "from nltk.stem.snowball import SnowballStemmer \n",
    "\n",
    "\n",
    "# sys.path.append\n",
    "os.getcwd()"
   ]
  },
  {
   "cell_type": "code",
   "execution_count": 11,
   "metadata": {},
   "outputs": [
    {
     "data": {
      "text/html": [
       "<div>\n",
       "<style scoped>\n",
       "    .dataframe tbody tr th:only-of-type {\n",
       "        vertical-align: middle;\n",
       "    }\n",
       "\n",
       "    .dataframe tbody tr th {\n",
       "        vertical-align: top;\n",
       "    }\n",
       "\n",
       "    .dataframe thead th {\n",
       "        text-align: right;\n",
       "    }\n",
       "</style>\n",
       "<table border=\"1\" class=\"dataframe\">\n",
       "  <thead>\n",
       "    <tr style=\"text-align: right;\">\n",
       "      <th></th>\n",
       "      <th>version</th>\n",
       "      <th>data</th>\n",
       "    </tr>\n",
       "  </thead>\n",
       "  <tbody>\n",
       "    <tr>\n",
       "      <th>0</th>\n",
       "      <td>1</td>\n",
       "      <td>{'source': 'wikipedia', 'id': '3zotghdk5ibi9ce...</td>\n",
       "    </tr>\n",
       "    <tr>\n",
       "      <th>1</th>\n",
       "      <td>1</td>\n",
       "      <td>{'source': 'cnn', 'id': '3wj1oxy92agboo5nlq4r7...</td>\n",
       "    </tr>\n",
       "    <tr>\n",
       "      <th>2</th>\n",
       "      <td>1</td>\n",
       "      <td>{'source': 'gutenberg', 'id': '3bdcf01ogxu7zdn...</td>\n",
       "    </tr>\n",
       "  </tbody>\n",
       "</table>\n",
       "</div>"
      ],
      "text/plain": [
       "   version                                               data\n",
       "0        1  {'source': 'wikipedia', 'id': '3zotghdk5ibi9ce...\n",
       "1        1  {'source': 'cnn', 'id': '3wj1oxy92agboo5nlq4r7...\n",
       "2        1  {'source': 'gutenberg', 'id': '3bdcf01ogxu7zdn..."
      ]
     },
     "execution_count": 11,
     "metadata": {},
     "output_type": "execute_result"
    }
   ],
   "source": [
    "# get path of current notebook\n",
    "ipynb_path = os.path.dirname(os.path.realpath(\"__file__\"))\n",
    "# locate data files\n",
    "data_dir = os.path.join(ipynb_path, '../../data/raw/')\n",
    "df = pd.read_json(f'{data_dir}/coqa-train-v1.0.json', encoding = 'utf-8-sig')\n",
    "df.head(3)"
   ]
  },
  {
   "cell_type": "code",
   "execution_count": 12,
   "metadata": {},
   "outputs": [
    {
     "name": "stdout",
     "output_type": "stream",
     "text": [
      "[1]\n"
     ]
    }
   ],
   "source": [
    "print(df.version.unique()) \n",
    "# all version 1 so unnecessary -> can drop\n",
    "df.drop(columns='version', inplace=True)"
   ]
  },
  {
   "cell_type": "code",
   "execution_count": 13,
   "metadata": {},
   "outputs": [
    {
     "data": {
      "text/html": [
       "<div>\n",
       "<style scoped>\n",
       "    .dataframe tbody tr th:only-of-type {\n",
       "        vertical-align: middle;\n",
       "    }\n",
       "\n",
       "    .dataframe tbody tr th {\n",
       "        vertical-align: top;\n",
       "    }\n",
       "\n",
       "    .dataframe thead th {\n",
       "        text-align: right;\n",
       "    }\n",
       "</style>\n",
       "<table border=\"1\" class=\"dataframe\">\n",
       "  <thead>\n",
       "    <tr style=\"text-align: right;\">\n",
       "      <th></th>\n",
       "      <th>data</th>\n",
       "    </tr>\n",
       "  </thead>\n",
       "  <tbody>\n",
       "    <tr>\n",
       "      <th>count</th>\n",
       "      <td>7199</td>\n",
       "    </tr>\n",
       "    <tr>\n",
       "      <th>unique</th>\n",
       "      <td>7199</td>\n",
       "    </tr>\n",
       "    <tr>\n",
       "      <th>top</th>\n",
       "      <td>{'source': 'wikipedia', 'id': '3zotghdk5ibi9ce...</td>\n",
       "    </tr>\n",
       "    <tr>\n",
       "      <th>freq</th>\n",
       "      <td>1</td>\n",
       "    </tr>\n",
       "  </tbody>\n",
       "</table>\n",
       "</div>"
      ],
      "text/plain": [
       "                                                     data\n",
       "count                                                7199\n",
       "unique                                               7199\n",
       "top     {'source': 'wikipedia', 'id': '3zotghdk5ibi9ce...\n",
       "freq                                                    1"
      ]
     },
     "execution_count": 13,
     "metadata": {},
     "output_type": "execute_result"
    }
   ],
   "source": [
    "df.describe()  # summary statistics\n",
    "# there are 7199 rows in total, which are all unique\n",
    "# this represents 7199 unique conversations"
   ]
  },
  {
   "cell_type": "code",
   "execution_count": 14,
   "metadata": {},
   "outputs": [
    {
     "data": {
      "text/plain": [
       "'7199 conversations'"
      ]
     },
     "execution_count": 14,
     "metadata": {},
     "output_type": "execute_result"
    }
   ],
   "source": [
    "unique_convos = int(df.describe().loc['unique'])\n",
    "f'{unique_convos} distinct conversations'"
   ]
  },
  {
   "cell_type": "code",
   "execution_count": 15,
   "metadata": {},
   "outputs": [
    {
     "data": {
      "text/plain": [
       "data    0\n",
       "dtype: int64"
      ]
     },
     "execution_count": 15,
     "metadata": {},
     "output_type": "execute_result"
    }
   ],
   "source": [
    "df.isnull().sum() # zero na/null values"
   ]
  },
  {
   "cell_type": "markdown",
   "metadata": {},
   "source": [
    "### Let's look at first document within corpus"
   ]
  },
  {
   "cell_type": "code",
   "execution_count": 20,
   "metadata": {},
   "outputs": [
    {
     "data": {
      "text/plain": [
       "dict_keys(['source', 'id', 'filename', 'story', 'questions', 'answers', 'name'])"
      ]
     },
     "execution_count": 20,
     "metadata": {},
     "output_type": "execute_result"
    }
   ],
   "source": [
    "ex = df.data[0] # looking at 1st example\n",
    "ex.keys() # keys in 1st element"
   ]
  },
  {
   "cell_type": "code",
   "execution_count": 19,
   "metadata": {},
   "outputs": [
    {
     "name": "stdout",
     "output_type": "stream",
     "text": [
      "Name: Vatican_Library.txt\n",
      "Source: from wikipedia\n"
     ]
    }
   ],
   "source": [
    "print(f\"Name: {ex['name']}\\nSource: from {ex['source']}\")\n",
    "# ex['filename'] seems to be same as name"
   ]
  },
  {
   "cell_type": "code",
   "execution_count": 24,
   "metadata": {},
   "outputs": [
    {
     "name": "stdout",
     "output_type": "stream",
     "text": [
      "There are 20 questions and 20 answers\n"
     ]
    }
   ],
   "source": [
    "# view questions \n",
    "questions = ex['questions']\n",
    "answers = ex['answers']\n",
    "print(f'There are {len(questions)} questions and {len(answers)} answers')\n",
    "# 20 questions"
   ]
  },
  {
   "cell_type": "markdown",
   "metadata": {},
   "source": [
    "let's look at an example question & answer"
   ]
  },
  {
   "cell_type": "code",
   "execution_count": 25,
   "metadata": {},
   "outputs": [
    {
     "name": "stdout",
     "output_type": "stream",
     "text": [
      "question: {'input_text': 'When was the Vat formally opened?', 'turn_id': 1}\n",
      "answer: {'span_start': 151, 'span_end': 179, 'span_text': 'Formally established in 1475', 'input_text': 'It was formally established in 1475', 'turn_id': 1}\n"
     ]
    }
   ],
   "source": [
    "print(f'question: {questions[0]}\\nanswer: {answers[0]}')\n",
    "# first question"
   ]
  },
  {
   "cell_type": "code",
   "execution_count": 35,
   "metadata": {},
   "outputs": [
    {
     "data": {
      "text/plain": [
       "'The Vatican Apostolic Library (), more commonly called the Vatican Library or simply the Vat, is the library of the Holy See, located in Vatican City. Formally established in 1475, although it is much older, it is one of the oldest libraries in the world and contains one of the most significant collections of historical texts. It has 75,000 codices from throughout history, as well as 1.1 million printed books, which include some 8,500 incunabula. \\n\\nThe Vatican Library is a research library for history, law, philosophy, science and theology. The Vatican Library is open to anyone who can document their qualifications and research needs. Photocopies for private study of pages from books published between 1801 and 1990 can be requested in person or by mail. \\n\\nIn March 2014, the Vatican Library began an initial four-year project of digitising its collection of manuscripts, to be made available online. \\n\\nThe Vatican Secret Archives were separated from the library at the beginning of the 17th century; they contain another 150,000 items. \\n\\nScholars have traditionally divided the history of the library into five periods, Pre-Lateran, Lateran, Avignon, Pre-Vatican and Vatican. \\n\\nThe Pre-Lateran period, comprising the initial days of the library, dated from the earliest days of the Church. Only a handful of volumes survive from this period, though some are very significant.'"
      ]
     },
     "execution_count": 35,
     "metadata": {},
     "output_type": "execute_result"
    }
   ],
   "source": [
    "# this is the text it pertains to\n",
    "ex['story']"
   ]
  },
  {
   "cell_type": "code",
   "execution_count": 36,
   "metadata": {},
   "outputs": [
    {
     "data": {
      "text/html": [
       "<div>\n",
       "<style scoped>\n",
       "    .dataframe tbody tr th:only-of-type {\n",
       "        vertical-align: middle;\n",
       "    }\n",
       "\n",
       "    .dataframe tbody tr th {\n",
       "        vertical-align: top;\n",
       "    }\n",
       "\n",
       "    .dataframe thead th {\n",
       "        text-align: right;\n",
       "    }\n",
       "</style>\n",
       "<table border=\"1\" class=\"dataframe\">\n",
       "  <thead>\n",
       "    <tr style=\"text-align: right;\">\n",
       "      <th></th>\n",
       "      <th>questions</th>\n",
       "      <th>answers</th>\n",
       "    </tr>\n",
       "  </thead>\n",
       "  <tbody>\n",
       "    <tr>\n",
       "      <th>0</th>\n",
       "      <td>When was the Vat formally opened?</td>\n",
       "      <td>It was formally established in 1475</td>\n",
       "    </tr>\n",
       "    <tr>\n",
       "      <th>1</th>\n",
       "      <td>what is the library for?</td>\n",
       "      <td>research</td>\n",
       "    </tr>\n",
       "    <tr>\n",
       "      <th>2</th>\n",
       "      <td>for what subjects?</td>\n",
       "      <td>history, and law</td>\n",
       "    </tr>\n",
       "    <tr>\n",
       "      <th>3</th>\n",
       "      <td>and?</td>\n",
       "      <td>philosophy, science and theology</td>\n",
       "    </tr>\n",
       "    <tr>\n",
       "      <th>4</th>\n",
       "      <td>what was started in 2014?</td>\n",
       "      <td>a  project</td>\n",
       "    </tr>\n",
       "  </tbody>\n",
       "</table>\n",
       "</div>"
      ],
      "text/plain": [
       "                           questions                              answers\n",
       "0  When was the Vat formally opened?  It was formally established in 1475\n",
       "1           what is the library for?                             research\n",
       "2                 for what subjects?                     history, and law\n",
       "3                               and?     philosophy, science and theology\n",
       "4          what was started in 2014?                           a  project"
      ]
     },
     "execution_count": 36,
     "metadata": {},
     "output_type": "execute_result"
    }
   ],
   "source": [
    "# generate lists of all questions & answers in document respectively\n",
    "q_list = [q['input_text'] for q in questions]\n",
    "ans_list = [a['input_text'] for a in answers]\n",
    "# visualise as dataframe\n",
    "qa_df = pd.DataFrame(data= {'questions': q_list, 'answers': ans_list})\n",
    "# view first 5 items\n",
    "qa_df.head()"
   ]
  },
  {
   "cell_type": "markdown",
   "metadata": {},
   "source": [
    "## Visualising the entire corpus"
   ]
  },
  {
   "cell_type": "code",
   "execution_count": 37,
   "metadata": {},
   "outputs": [
    {
     "data": {
      "text/html": [
       "<div>\n",
       "<style scoped>\n",
       "    .dataframe tbody tr th:only-of-type {\n",
       "        vertical-align: middle;\n",
       "    }\n",
       "\n",
       "    .dataframe tbody tr th {\n",
       "        vertical-align: top;\n",
       "    }\n",
       "\n",
       "    .dataframe thead th {\n",
       "        text-align: right;\n",
       "    }\n",
       "</style>\n",
       "<table border=\"1\" class=\"dataframe\">\n",
       "  <thead>\n",
       "    <tr style=\"text-align: right;\">\n",
       "      <th></th>\n",
       "      <th>names</th>\n",
       "      <th>corpus</th>\n",
       "      <th>sources</th>\n",
       "      <th>questions</th>\n",
       "      <th>answers</th>\n",
       "    </tr>\n",
       "  </thead>\n",
       "  <tbody>\n",
       "    <tr>\n",
       "      <th>0</th>\n",
       "      <td>Vatican_Library.txt</td>\n",
       "      <td>The Vatican Apostolic Library (), more commonl...</td>\n",
       "      <td>wikipedia</td>\n",
       "      <td>[When was the Vat formally opened?, what is th...</td>\n",
       "      <td>[It was formally established in 1475, research...</td>\n",
       "    </tr>\n",
       "    <tr>\n",
       "      <th>1</th>\n",
       "      <td>cnn_fe05c61a7e48461f7883cdec387567029614f07b.s...</td>\n",
       "      <td>New York (CNN) -- More than 80 Michael Jackson...</td>\n",
       "      <td>cnn</td>\n",
       "      <td>[Where was the Auction held?, How much did the...</td>\n",
       "      <td>[Hard Rock Cafe, $2 million., $120,000, Hoffma...</td>\n",
       "    </tr>\n",
       "    <tr>\n",
       "      <th>2</th>\n",
       "      <td>data/gutenberg/txt/Zane Grey___Riders of the P...</td>\n",
       "      <td>CHAPTER VII. THE DAUGHTER OF WITHERSTEEN \\n\\n\"...</td>\n",
       "      <td>gutenberg</td>\n",
       "      <td>[What did Venters call Lassiter?, Who asked La...</td>\n",
       "      <td>[gun-man, Jane, Yes, to take charge of her cat...</td>\n",
       "    </tr>\n",
       "  </tbody>\n",
       "</table>\n",
       "</div>"
      ],
      "text/plain": [
       "                                               names  \\\n",
       "0                                Vatican_Library.txt   \n",
       "1  cnn_fe05c61a7e48461f7883cdec387567029614f07b.s...   \n",
       "2  data/gutenberg/txt/Zane Grey___Riders of the P...   \n",
       "\n",
       "                                              corpus    sources  \\\n",
       "0  The Vatican Apostolic Library (), more commonl...  wikipedia   \n",
       "1  New York (CNN) -- More than 80 Michael Jackson...        cnn   \n",
       "2  CHAPTER VII. THE DAUGHTER OF WITHERSTEEN \\n\\n\"...  gutenberg   \n",
       "\n",
       "                                           questions  \\\n",
       "0  [When was the Vat formally opened?, what is th...   \n",
       "1  [Where was the Auction held?, How much did the...   \n",
       "2  [What did Venters call Lassiter?, Who asked La...   \n",
       "\n",
       "                                             answers  \n",
       "0  [It was formally established in 1475, research...  \n",
       "1  [Hard Rock Cafe, $2 million., $120,000, Hoffma...  \n",
       "2  [gun-man, Jane, Yes, to take charge of her cat...  "
      ]
     },
     "execution_count": 37,
     "metadata": {},
     "output_type": "execute_result"
    }
   ],
   "source": [
    "# name, story, source, questions, answers \n",
    "def dataset_to_df():\n",
    "    \"this function converts aggregates all corpus documents into a data frame\"\n",
    "    convo_dict = dict()\n",
    "    names = []\n",
    "    corpus = []\n",
    "    sources = []\n",
    "    questions_li = []\n",
    "    answers_li = []\n",
    "    for convo in df.data:\n",
    "        names.append(convo['name'])\n",
    "        corpus.append(convo['story'])\n",
    "        sources.append(convo['source'])\n",
    "        questions = [q['input_text'] for q in convo['questions']]\n",
    "        questions_li.append(questions)\n",
    "        answers = [a['input_text'] for a in convo['answers']]\n",
    "        answers_li.append(answers)\n",
    "    \n",
    "    convo_dict = {'names': names, 'corpus': corpus, 'sources': sources, 'questions': questions_li, 'answers': answers_li}\n",
    "    return pd.DataFrame.from_dict(convo_dict)\n",
    "    # convo_dict['ques']\n",
    "\n",
    "df2 = dataset_to_df()\n",
    "df2.head(3)"
   ]
  },
  {
   "cell_type": "code",
   "execution_count": 38,
   "metadata": {},
   "outputs": [
    {
     "data": {
      "text/html": [
       "<div>\n",
       "<style scoped>\n",
       "    .dataframe tbody tr th:only-of-type {\n",
       "        vertical-align: middle;\n",
       "    }\n",
       "\n",
       "    .dataframe tbody tr th {\n",
       "        vertical-align: top;\n",
       "    }\n",
       "\n",
       "    .dataframe thead th {\n",
       "        text-align: right;\n",
       "    }\n",
       "</style>\n",
       "<table border=\"1\" class=\"dataframe\">\n",
       "  <thead>\n",
       "    <tr style=\"text-align: right;\">\n",
       "      <th></th>\n",
       "      <th>names</th>\n",
       "      <th>corpus</th>\n",
       "      <th>sources</th>\n",
       "      <th>questions</th>\n",
       "      <th>answers</th>\n",
       "    </tr>\n",
       "  </thead>\n",
       "  <tbody>\n",
       "    <tr>\n",
       "      <th>count</th>\n",
       "      <td>7199</td>\n",
       "      <td>7199</td>\n",
       "      <td>7199</td>\n",
       "      <td>7199</td>\n",
       "      <td>7199</td>\n",
       "    </tr>\n",
       "    <tr>\n",
       "      <th>unique</th>\n",
       "      <td>6600</td>\n",
       "      <td>6605</td>\n",
       "      <td>5</td>\n",
       "      <td>7199</td>\n",
       "      <td>7191</td>\n",
       "    </tr>\n",
       "    <tr>\n",
       "      <th>top</th>\n",
       "      <td>cnn_0da77c1f367a7874bcf56f43671c15d607c02910.s...</td>\n",
       "      <td>New York (CNN) -- A self-described \"ex-madam\" ...</td>\n",
       "      <td>race</td>\n",
       "      <td>[When was the Vat formally opened?, what is th...</td>\n",
       "      <td>[unknown]</td>\n",
       "    </tr>\n",
       "    <tr>\n",
       "      <th>freq</th>\n",
       "      <td>11</td>\n",
       "      <td>11</td>\n",
       "      <td>1711</td>\n",
       "      <td>1</td>\n",
       "      <td>6</td>\n",
       "    </tr>\n",
       "  </tbody>\n",
       "</table>\n",
       "</div>"
      ],
      "text/plain": [
       "                                                    names  \\\n",
       "count                                                7199   \n",
       "unique                                               6600   \n",
       "top     cnn_0da77c1f367a7874bcf56f43671c15d607c02910.s...   \n",
       "freq                                                   11   \n",
       "\n",
       "                                                   corpus sources  \\\n",
       "count                                                7199    7199   \n",
       "unique                                               6605       5   \n",
       "top     New York (CNN) -- A self-described \"ex-madam\" ...    race   \n",
       "freq                                                   11    1711   \n",
       "\n",
       "                                                questions    answers  \n",
       "count                                                7199       7199  \n",
       "unique                                               7199       7191  \n",
       "top     [When was the Vat formally opened?, what is th...  [unknown]  \n",
       "freq                                                    1          6  "
      ]
     },
     "execution_count": 38,
     "metadata": {},
     "output_type": "execute_result"
    }
   ],
   "source": [
    "df2.describe() # summary stats"
   ]
  },
  {
   "cell_type": "code",
   "execution_count": 39,
   "metadata": {},
   "outputs": [
    {
     "data": {
      "text/plain": [
       "names        0\n",
       "corpus       0\n",
       "sources      0\n",
       "questions    0\n",
       "answers      0\n",
       "dtype: int64"
      ]
     },
     "execution_count": 39,
     "metadata": {},
     "output_type": "execute_result"
    }
   ],
   "source": [
    "df2.isnull().sum() # verifying no nulls/na values"
   ]
  },
  {
   "cell_type": "code",
   "execution_count": 40,
   "metadata": {},
   "outputs": [
    {
     "data": {
      "text/plain": [
       "race         0.237672\n",
       "cnn          0.236422\n",
       "wikipedia    0.225170\n",
       "gutenberg    0.224337\n",
       "mctest       0.076399\n",
       "Name: sources, dtype: float64"
      ]
     },
     "execution_count": 40,
     "metadata": {},
     "output_type": "execute_result"
    }
   ],
   "source": [
    "df2.sources.value_counts(normalize=True) \n",
    "# 5 different sources, fewest come from mctests"
   ]
  },
  {
   "cell_type": "code",
   "execution_count": 41,
   "metadata": {},
   "outputs": [
    {
     "data": {
      "text/html": [
       "<div>\n",
       "<style scoped>\n",
       "    .dataframe tbody tr th:only-of-type {\n",
       "        vertical-align: middle;\n",
       "    }\n",
       "\n",
       "    .dataframe tbody tr th {\n",
       "        vertical-align: top;\n",
       "    }\n",
       "\n",
       "    .dataframe thead th {\n",
       "        text-align: right;\n",
       "    }\n",
       "</style>\n",
       "<table border=\"1\" class=\"dataframe\">\n",
       "  <thead>\n",
       "    <tr style=\"text-align: right;\">\n",
       "      <th></th>\n",
       "      <th>names</th>\n",
       "      <th>corpus</th>\n",
       "      <th>sources</th>\n",
       "      <th>questions</th>\n",
       "      <th>answers</th>\n",
       "    </tr>\n",
       "  </thead>\n",
       "  <tbody>\n",
       "    <tr>\n",
       "      <th>5742</th>\n",
       "      <td>2008_Summer_Olympics_torch_relay2008_Summer_Ol...</td>\n",
       "      <td>The 2008 Summer Olympics torch relay was run f...</td>\n",
       "      <td>wikipedia</td>\n",
       "      <td>[where is the birthplace of the olympics?, how...</td>\n",
       "      <td>[Olympia, Greece, Six, yes, Panathinaiko Stadi...</td>\n",
       "    </tr>\n",
       "    <tr>\n",
       "      <th>6109</th>\n",
       "      <td>2008_Summer_Olympics_torch_relay2008_Summer_Ol...</td>\n",
       "      <td>The 2008 Summer Olympics torch relay was run f...</td>\n",
       "      <td>wikipedia</td>\n",
       "      <td>[Where did the Olympics begin?, In what countr...</td>\n",
       "      <td>[Olympia, Greece, Journey of Harmony, the orga...</td>\n",
       "    </tr>\n",
       "    <tr>\n",
       "      <th>2122</th>\n",
       "      <td>2008_Summer_Olympics_torch_relay2008_Summer_Ol...</td>\n",
       "      <td>The 2008 Summer Olympics torch relay was run f...</td>\n",
       "      <td>wikipedia</td>\n",
       "      <td>[When was the race?, What was it for?, What wa...</td>\n",
       "      <td>[March 24 until August 8, 2008, Summer Olympic...</td>\n",
       "    </tr>\n",
       "    <tr>\n",
       "      <th>6939</th>\n",
       "      <td>2008_Summer_Olympics_torch_relay2008_Summer_Ol...</td>\n",
       "      <td>The 2008 Summer Olympics torch relay was run f...</td>\n",
       "      <td>wikipedia</td>\n",
       "      <td>[When did the relay start?, Where?, Why is tha...</td>\n",
       "      <td>[March 24, Olympia, Greece, It is the birthpla...</td>\n",
       "    </tr>\n",
       "  </tbody>\n",
       "</table>\n",
       "</div>"
      ],
      "text/plain": [
       "                                                  names  \\\n",
       "5742  2008_Summer_Olympics_torch_relay2008_Summer_Ol...   \n",
       "6109  2008_Summer_Olympics_torch_relay2008_Summer_Ol...   \n",
       "2122  2008_Summer_Olympics_torch_relay2008_Summer_Ol...   \n",
       "6939  2008_Summer_Olympics_torch_relay2008_Summer_Ol...   \n",
       "\n",
       "                                                 corpus    sources  \\\n",
       "5742  The 2008 Summer Olympics torch relay was run f...  wikipedia   \n",
       "6109  The 2008 Summer Olympics torch relay was run f...  wikipedia   \n",
       "2122  The 2008 Summer Olympics torch relay was run f...  wikipedia   \n",
       "6939  The 2008 Summer Olympics torch relay was run f...  wikipedia   \n",
       "\n",
       "                                              questions  \\\n",
       "5742  [where is the birthplace of the olympics?, how...   \n",
       "6109  [Where did the Olympics begin?, In what countr...   \n",
       "2122  [When was the race?, What was it for?, What wa...   \n",
       "6939  [When did the relay start?, Where?, Why is tha...   \n",
       "\n",
       "                                                answers  \n",
       "5742  [Olympia, Greece, Six, yes, Panathinaiko Stadi...  \n",
       "6109  [Olympia, Greece, Journey of Harmony, the orga...  \n",
       "2122  [March 24 until August 8, 2008, Summer Olympic...  \n",
       "6939  [March 24, Olympia, Greece, It is the birthpla...  "
      ]
     },
     "execution_count": 41,
     "metadata": {},
     "output_type": "execute_result"
    }
   ],
   "source": [
    "dup_rows = df2.copy()[df2.copy().duplicated(subset=['names', 'corpus'])] \n",
    "dup_rows.sort_values(by='names', inplace=True)\n",
    "dup_rows.head(4)\n",
    "# there's rows using the same corpus from the same file names\n",
    "# these appear to pertain to  diff sets of questions and answers"
   ]
  },
  {
   "cell_type": "markdown",
   "metadata": {},
   "source": [
    "### Named Entity Recognition with spacy"
   ]
  },
  {
   "cell_type": "code",
   "execution_count": 57,
   "metadata": {},
   "outputs": [
    {
     "data": {
      "text/html": [
       "<span class=\"tex2jax_ignore\"><div class=\"entities\" style=\"line-height: 2.5; direction: ltr\">\n",
       "<mark class=\"entity\" style=\"background: #7aecec; padding: 0.45em 0.6em; margin: 0 0.25em; line-height: 1; border-radius: 0.35em;\">\n",
       "    The Vatican Apostolic Library\n",
       "    <span style=\"font-size: 0.8em; font-weight: bold; line-height: 1; border-radius: 0.35em; vertical-align: middle; margin-left: 0.5rem\">ORG</span>\n",
       "</mark>\n",
       " (), more commonly called \n",
       "<mark class=\"entity\" style=\"background: #7aecec; padding: 0.45em 0.6em; margin: 0 0.25em; line-height: 1; border-radius: 0.35em;\">\n",
       "    the Vatican Library\n",
       "    <span style=\"font-size: 0.8em; font-weight: bold; line-height: 1; border-radius: 0.35em; vertical-align: middle; margin-left: 0.5rem\">ORG</span>\n",
       "</mark>\n",
       " or simply the Vat, is the library of \n",
       "<mark class=\"entity\" style=\"background: #7aecec; padding: 0.45em 0.6em; margin: 0 0.25em; line-height: 1; border-radius: 0.35em;\">\n",
       "    the Holy See\n",
       "    <span style=\"font-size: 0.8em; font-weight: bold; line-height: 1; border-radius: 0.35em; vertical-align: middle; margin-left: 0.5rem\">ORG</span>\n",
       "</mark>\n",
       ", located in \n",
       "<mark class=\"entity\" style=\"background: #feca74; padding: 0.45em 0.6em; margin: 0 0.25em; line-height: 1; border-radius: 0.35em;\">\n",
       "    Vatican City\n",
       "    <span style=\"font-size: 0.8em; font-weight: bold; line-height: 1; border-radius: 0.35em; vertical-align: middle; margin-left: 0.5rem\">GPE</span>\n",
       "</mark>\n",
       ". Formally established in \n",
       "<mark class=\"entity\" style=\"background: #bfe1d9; padding: 0.45em 0.6em; margin: 0 0.25em; line-height: 1; border-radius: 0.35em;\">\n",
       "    1475\n",
       "    <span style=\"font-size: 0.8em; font-weight: bold; line-height: 1; border-radius: 0.35em; vertical-align: middle; margin-left: 0.5rem\">DATE</span>\n",
       "</mark>\n",
       ", although it is much older, it is one of the oldest libraries in the world and contains one of the most significant collections of historical texts. It has \n",
       "<mark class=\"entity\" style=\"background: #e4e7d2; padding: 0.45em 0.6em; margin: 0 0.25em; line-height: 1; border-radius: 0.35em;\">\n",
       "    75,000\n",
       "    <span style=\"font-size: 0.8em; font-weight: bold; line-height: 1; border-radius: 0.35em; vertical-align: middle; margin-left: 0.5rem\">CARDINAL</span>\n",
       "</mark>\n",
       " codices from throughout history, as well as \n",
       "<mark class=\"entity\" style=\"background: #e4e7d2; padding: 0.45em 0.6em; margin: 0 0.25em; line-height: 1; border-radius: 0.35em;\">\n",
       "    1.1 million\n",
       "    <span style=\"font-size: 0.8em; font-weight: bold; line-height: 1; border-radius: 0.35em; vertical-align: middle; margin-left: 0.5rem\">CARDINAL</span>\n",
       "</mark>\n",
       " printed books, which include \n",
       "<mark class=\"entity\" style=\"background: #e4e7d2; padding: 0.45em 0.6em; margin: 0 0.25em; line-height: 1; border-radius: 0.35em;\">\n",
       "    some 8,500\n",
       "    <span style=\"font-size: 0.8em; font-weight: bold; line-height: 1; border-radius: 0.35em; vertical-align: middle; margin-left: 0.5rem\">CARDINAL</span>\n",
       "</mark>\n",
       " incunabula. </br></br>\n",
       "<mark class=\"entity\" style=\"background: #7aecec; padding: 0.45em 0.6em; margin: 0 0.25em; line-height: 1; border-radius: 0.35em;\">\n",
       "    The Vatican Library\n",
       "    <span style=\"font-size: 0.8em; font-weight: bold; line-height: 1; border-radius: 0.35em; vertical-align: middle; margin-left: 0.5rem\">ORG</span>\n",
       "</mark>\n",
       " is a research library for history, law, philosophy, science and theology. \n",
       "<mark class=\"entity\" style=\"background: #7aecec; padding: 0.45em 0.6em; margin: 0 0.25em; line-height: 1; border-radius: 0.35em;\">\n",
       "    The Vatican Library\n",
       "    <span style=\"font-size: 0.8em; font-weight: bold; line-height: 1; border-radius: 0.35em; vertical-align: middle; margin-left: 0.5rem\">ORG</span>\n",
       "</mark>\n",
       " is open to anyone who can document their qualifications and research needs. Photocopies for private study of pages from books published \n",
       "<mark class=\"entity\" style=\"background: #bfe1d9; padding: 0.45em 0.6em; margin: 0 0.25em; line-height: 1; border-radius: 0.35em;\">\n",
       "    between 1801 and 1990\n",
       "    <span style=\"font-size: 0.8em; font-weight: bold; line-height: 1; border-radius: 0.35em; vertical-align: middle; margin-left: 0.5rem\">DATE</span>\n",
       "</mark>\n",
       " can be requested in person or by mail. </br></br>In \n",
       "<mark class=\"entity\" style=\"background: #bfe1d9; padding: 0.45em 0.6em; margin: 0 0.25em; line-height: 1; border-radius: 0.35em;\">\n",
       "    March 2014\n",
       "    <span style=\"font-size: 0.8em; font-weight: bold; line-height: 1; border-radius: 0.35em; vertical-align: middle; margin-left: 0.5rem\">DATE</span>\n",
       "</mark>\n",
       ", \n",
       "<mark class=\"entity\" style=\"background: #7aecec; padding: 0.45em 0.6em; margin: 0 0.25em; line-height: 1; border-radius: 0.35em;\">\n",
       "    the Vatican Library\n",
       "    <span style=\"font-size: 0.8em; font-weight: bold; line-height: 1; border-radius: 0.35em; vertical-align: middle; margin-left: 0.5rem\">ORG</span>\n",
       "</mark>\n",
       " began an initial \n",
       "<mark class=\"entity\" style=\"background: #bfe1d9; padding: 0.45em 0.6em; margin: 0 0.25em; line-height: 1; border-radius: 0.35em;\">\n",
       "    four-year\n",
       "    <span style=\"font-size: 0.8em; font-weight: bold; line-height: 1; border-radius: 0.35em; vertical-align: middle; margin-left: 0.5rem\">DATE</span>\n",
       "</mark>\n",
       " project of digitising its collection of manuscripts, to be made available online. </br></br>\n",
       "<mark class=\"entity\" style=\"background: #f0d0ff; padding: 0.45em 0.6em; margin: 0 0.25em; line-height: 1; border-radius: 0.35em;\">\n",
       "    The Vatican Secret Archives\n",
       "    <span style=\"font-size: 0.8em; font-weight: bold; line-height: 1; border-radius: 0.35em; vertical-align: middle; margin-left: 0.5rem\">WORK_OF_ART</span>\n",
       "</mark>\n",
       " were separated from the library at \n",
       "<mark class=\"entity\" style=\"background: #bfe1d9; padding: 0.45em 0.6em; margin: 0 0.25em; line-height: 1; border-radius: 0.35em;\">\n",
       "    the beginning of the 17th century\n",
       "    <span style=\"font-size: 0.8em; font-weight: bold; line-height: 1; border-radius: 0.35em; vertical-align: middle; margin-left: 0.5rem\">DATE</span>\n",
       "</mark>\n",
       "; they contain another \n",
       "<mark class=\"entity\" style=\"background: #e4e7d2; padding: 0.45em 0.6em; margin: 0 0.25em; line-height: 1; border-radius: 0.35em;\">\n",
       "    150,000\n",
       "    <span style=\"font-size: 0.8em; font-weight: bold; line-height: 1; border-radius: 0.35em; vertical-align: middle; margin-left: 0.5rem\">CARDINAL</span>\n",
       "</mark>\n",
       " items. </br></br>Scholars have traditionally divided the history of the library into \n",
       "<mark class=\"entity\" style=\"background: #e4e7d2; padding: 0.45em 0.6em; margin: 0 0.25em; line-height: 1; border-radius: 0.35em;\">\n",
       "    five\n",
       "    <span style=\"font-size: 0.8em; font-weight: bold; line-height: 1; border-radius: 0.35em; vertical-align: middle; margin-left: 0.5rem\">CARDINAL</span>\n",
       "</mark>\n",
       " periods, \n",
       "<mark class=\"entity\" style=\"background: #aa9cfc; padding: 0.45em 0.6em; margin: 0 0.25em; line-height: 1; border-radius: 0.35em;\">\n",
       "    Pre-Lateran\n",
       "    <span style=\"font-size: 0.8em; font-weight: bold; line-height: 1; border-radius: 0.35em; vertical-align: middle; margin-left: 0.5rem\">PERSON</span>\n",
       "</mark>\n",
       ", \n",
       "<mark class=\"entity\" style=\"background: #feca74; padding: 0.45em 0.6em; margin: 0 0.25em; line-height: 1; border-radius: 0.35em;\">\n",
       "    Lateran\n",
       "    <span style=\"font-size: 0.8em; font-weight: bold; line-height: 1; border-radius: 0.35em; vertical-align: middle; margin-left: 0.5rem\">GPE</span>\n",
       "</mark>\n",
       ", \n",
       "<mark class=\"entity\" style=\"background: #7aecec; padding: 0.45em 0.6em; margin: 0 0.25em; line-height: 1; border-radius: 0.35em;\">\n",
       "    Avignon\n",
       "    <span style=\"font-size: 0.8em; font-weight: bold; line-height: 1; border-radius: 0.35em; vertical-align: middle; margin-left: 0.5rem\">ORG</span>\n",
       "</mark>\n",
       ", Pre-Vatican and \n",
       "<mark class=\"entity\" style=\"background: #feca74; padding: 0.45em 0.6em; margin: 0 0.25em; line-height: 1; border-radius: 0.35em;\">\n",
       "    Vatican\n",
       "    <span style=\"font-size: 0.8em; font-weight: bold; line-height: 1; border-radius: 0.35em; vertical-align: middle; margin-left: 0.5rem\">GPE</span>\n",
       "</mark>\n",
       ". </br></br>\n",
       "<mark class=\"entity\" style=\"background: #f0d0ff; padding: 0.45em 0.6em; margin: 0 0.25em; line-height: 1; border-radius: 0.35em;\">\n",
       "    The Pre-Lateran\n",
       "    <span style=\"font-size: 0.8em; font-weight: bold; line-height: 1; border-radius: 0.35em; vertical-align: middle; margin-left: 0.5rem\">WORK_OF_ART</span>\n",
       "</mark>\n",
       " period, comprising \n",
       "<mark class=\"entity\" style=\"background: #bfe1d9; padding: 0.45em 0.6em; margin: 0 0.25em; line-height: 1; border-radius: 0.35em;\">\n",
       "    the initial days\n",
       "    <span style=\"font-size: 0.8em; font-weight: bold; line-height: 1; border-radius: 0.35em; vertical-align: middle; margin-left: 0.5rem\">DATE</span>\n",
       "</mark>\n",
       " of the library, dated from \n",
       "<mark class=\"entity\" style=\"background: #bfe1d9; padding: 0.45em 0.6em; margin: 0 0.25em; line-height: 1; border-radius: 0.35em;\">\n",
       "    the earliest days\n",
       "    <span style=\"font-size: 0.8em; font-weight: bold; line-height: 1; border-radius: 0.35em; vertical-align: middle; margin-left: 0.5rem\">DATE</span>\n",
       "</mark>\n",
       " of the \n",
       "<mark class=\"entity\" style=\"background: #7aecec; padding: 0.45em 0.6em; margin: 0 0.25em; line-height: 1; border-radius: 0.35em;\">\n",
       "    Church\n",
       "    <span style=\"font-size: 0.8em; font-weight: bold; line-height: 1; border-radius: 0.35em; vertical-align: middle; margin-left: 0.5rem\">ORG</span>\n",
       "</mark>\n",
       ". Only a handful of volumes survive from this period, though some are very significant.</div></span>"
      ],
      "text/plain": [
       "<IPython.core.display.HTML object>"
      ]
     },
     "metadata": {},
     "output_type": "display_data"
    }
   ],
   "source": [
    "# looking at the first corpus example again\n",
    "excerpt = df2.iloc[0].corpus \n",
    "nlp = spacy.load('en_core_web_sm')\n",
    "doc = nlp(excerpt) # preprocesses text with spacy pipeline - useful!\n",
    "# style = 'ent' represents entity recognition\n",
    "spacy.displacy.render(doc, style='ent', jupyter=True) \n",
    "# print(doc)"
   ]
  },
  {
   "cell_type": "markdown",
   "metadata": {},
   "source": [
    "### Tokenisation"
   ]
  },
  {
   "cell_type": "code",
   "execution_count": 58,
   "metadata": {},
   "outputs": [],
   "source": [
    "# tokenise & remove most punctuation \n",
    "# using regex to tokenise and remove tokens\n",
    "list_of_words = [re.sub('[,\\.!?()]', '', x) for x in excerpt.split()] \n",
    "spacy_stopwords = spacy.lang.en.stop_words.STOP_WORDS\n",
    "vocab = [word.lower() for word in list_of_words if word.lower() not in spacy_stopwords]\n",
    "# test"
   ]
  },
  {
   "cell_type": "code",
   "execution_count": 59,
   "metadata": {},
   "outputs": [
    {
     "name": "stdout",
     "output_type": "stream",
     "text": [
      "['vatican', 'apostolic', 'library', '', 'commonly', 'called', 'vatican', 'library', 'simply', 'vat', 'library', 'holy', 'located', 'vatican', 'city', 'formally', 'established', '1475', 'older', 'oldest', 'libraries', 'world', 'contains', 'significant', 'collections', 'historical', 'texts', '75000', 'codices', 'history', '11', 'million', 'printed', 'books', 'include', '8500', 'incunabula', 'vatican', 'library', 'research', 'library', 'history', 'law', 'philosophy', 'science', 'theology', 'vatican', 'library', 'open', 'document', 'qualifications', 'research', 'needs', 'photocopies', 'private', 'study', 'pages', 'books', 'published', '1801', '1990', 'requested', 'person', 'mail', 'march', '2014', 'vatican', 'library', 'began', 'initial', 'four-year', 'project', 'digitising', 'collection', 'manuscripts', 'available', 'online', 'vatican', 'secret', 'archives', 'separated', 'library', 'beginning', '17th', 'century;', 'contain', '150000', 'items', 'scholars', 'traditionally', 'divided', 'history', 'library', 'periods', 'pre-lateran', 'lateran', 'avignon', 'pre-vatican', 'vatican', 'pre-lateran', 'period', 'comprising', 'initial', 'days', 'library', 'dated', 'earliest', 'days', 'church', 'handful', 'volumes', 'survive', 'period', 'significant']\n"
     ]
    }
   ],
   "source": [
    "print(vocab)"
   ]
  },
  {
   "cell_type": "code",
   "execution_count": 61,
   "metadata": {},
   "outputs": [
    {
     "name": "stdout",
     "output_type": "stream",
     "text": [
      "Number of Tokens: 218\n",
      "Vocabulary length: 89\n"
     ]
    }
   ],
   "source": [
    "print(f\"Number of Tokens: {len(list_of_words)}\")\n",
    "# set gets distinct tokens\n",
    "distinct_vocab = set(vocab)\n",
    "print(f\"Vocabulary length: {len(distinct_vocab)}\")\n",
    "# quite a lot of repeated words - let's visualise the most common ones..."
   ]
  },
  {
   "cell_type": "code",
   "execution_count": 62,
   "metadata": {},
   "outputs": [
    {
     "data": {
      "text/plain": [
       "'Average word length: 6.99'"
      ]
     },
     "execution_count": 62,
     "metadata": {},
     "output_type": "execute_result"
    }
   ],
   "source": [
    "avg_token_len = sum([len(word) for word in distinct_vocab]) / len(distinct_vocab)\n",
    "f'Average word length: {round(avg_token_len, 2)}'"
   ]
  },
  {
   "cell_type": "code",
   "execution_count": 63,
   "metadata": {},
   "outputs": [
    {
     "name": "stdout",
     "output_type": "stream",
     "text": [
      "[('library', 10), ('vatican', 8), ('history', 3), ('significant', 2), ('books', 2), ('research', 2), ('initial', 2), ('pre-lateran', 2), ('period', 2), ('days', 2)]\n"
     ]
    }
   ],
   "source": [
    "wordfreqdist = nltk.FreqDist(vocab)\n",
    "most_common = wordfreqdist.most_common(10) # top 10!\n",
    "print(most_common)"
   ]
  },
  {
   "cell_type": "code",
   "execution_count": 64,
   "metadata": {},
   "outputs": [
    {
     "data": {
      "image/png": "[encoded data removed]",
      "text/plain": [
       "<Figure size 432x288 with 1 Axes>"
      ]
     },
     "metadata": {
      "needs_background": "light"
     },
     "output_type": "display_data"
    }
   ],
   "source": [
    "\n",
    "y = [i[1] for i in most_common] # words\n",
    "x = [i[0] for i in most_common]\n",
    "plt.barh(range(len(most_common)), y, align='center')\n",
    "plt.yticks(range(len(most_common)), x)\n",
    "plt.show()"
   ]
  },
  {
   "cell_type": "markdown",
   "metadata": {},
   "source": [
    "### zipf's law"
   ]
  },
  {
   "cell_type": "code",
   "execution_count": 94,
   "metadata": {},
   "outputs": [
    {
     "data": {
      "image/png": "[encoded data removed]",
      "text/plain": [
       "<Figure size 432x288 with 1 Axes>"
      ]
     },
     "metadata": {
      "needs_background": "light"
     },
     "output_type": "display_data"
    }
   ],
   "source": [
    "wordfreqdist.plot(50)\n",
    "plt.show()\n",
    "# Even though we can see the plot follows the trend of Zipf’s Law, but it looks like it has more area above the expected Zipf curve in higher ranked words."
   ]
  },
  {
   "cell_type": "markdown",
   "metadata": {},
   "source": [
    "### Stemming and Lemmatisation\n",
    "\n",
    "\n",
    "`Stemming` produces the base root of a word in a slightly more 'crude' or 'heuristic' way (than lemmatisation) by chopping off word endings. This is done with the assumption that the remaining word is what we are actually looking for, but often results in derivational affixes also being removed which can be problematic.\n",
    "\n",
    "`Lemmatisation `is an algorithmic manner of finding the dictionary form of a word semantically i.e. the `lemma`. It more elegantly utilises a vocabulary and morpoholigical word analysis in its attempt to only remove inflectional endings. As such, it's the best practice to use lemmatisation to get the root word correctly."
   ]
  },
  {
   "cell_type": "code",
   "execution_count": 86,
   "metadata": {},
   "outputs": [],
   "source": [
    "def stem_vs_lem(test_str = 'slowest'):\n",
    "    \"function to test 2 different stemmers and lemmatisers on test input\"\n",
    "    porter_stemmer = PorterStemmer() \n",
    "    snowball_stemmer = SnowballStemmer(\"english\") \n",
    "    # initialise lemmatiser via spacy\n",
    "    nlp = spacy.load('en_core_web_sm')\n",
    "    doc = nlp(test_str)\n",
    "    # doc = nlp('I got the data')\n",
    "    for token in doc:\n",
    "        # print('%-6s %-6s %s' % (token.text, token.lemma_, token._.lemma()))\n",
    "        print(f'token: {token.text}\\n')\n",
    "        print(f'porter stemmer: {porter_stemmer.stem(test_str)}') \n",
    "        print(f'snowball stemmer: {snowball_stemmer.stem(test_str)}')\n",
    "        print(f'spacy lemmatiser: {token.lemma_}\\nLemminflect lemmatiser: {token._.lemma()}')\n"
   ]
  },
  {
   "cell_type": "code",
   "execution_count": 87,
   "metadata": {},
   "outputs": [
    {
     "name": "stdout",
     "output_type": "stream",
     "text": [
      "token: biggest\n",
      "\n",
      "porter stemmer: biggest\n",
      "snowball stemmer: biggest\n",
      "spacy lemmatiser: big\n",
      "Lemminflect lemmatiser: big\n",
      "token: fastest\n",
      "\n",
      "porter stemmer: fastest\n",
      "snowball stemmer: fastest\n",
      "spacy lemmatiser: fast\n",
      "Lemminflect lemmatiser: fast\n",
      "token: best\n",
      "\n",
      "porter stemmer: best\n",
      "snowball stemmer: best\n",
      "spacy lemmatiser: good\n",
      "Lemminflect lemmatiser: good\n"
     ]
    }
   ],
   "source": [
    "inputs = ['biggest', 'fastest', 'best']\n",
    "for inp in inputs:\n",
    "    stem_vs_lem(test_str=inp)"
   ]
  },
  {
   "cell_type": "code",
   "execution_count": 81,
   "metadata": {},
   "outputs": [],
   "source": [
    "#  Lemminflect which works as an add-in pipeline component for SpaCy which can give better results.\n",
    "def lemmatise(token):\n",
    "    \"function to lemmatise specifically\"\n",
    "    nlp = spacy.load('en_core_web_sm')\n",
    "    for token in nlp(token):\n",
    "        # return token._.lemma()\n",
    "        print(f'token: {token.text}\\nlemma 1 (spaCy default): {token.lemma_}\\nlemma 2 (Lemminflect): {token._.lemma()}')"
   ]
  },
  {
   "cell_type": "code",
   "execution_count": 88,
   "metadata": {},
   "outputs": [
    {
     "name": "stdout",
     "output_type": "stream",
     "text": [
      "token: running\n",
      "lemma 1 (spaCy default): run\n",
      "lemma 2 (Lemminflect): run\n"
     ]
    }
   ],
   "source": [
    "lemmatise('running')"
   ]
  }
 ],
 "metadata": {
  "interpreter": {
   "hash": "fe750d18078275d3455bbd6d3f883718325a662ca0cbe54b60fb2c45f1a04f91"
  },
  "kernelspec": {
   "display_name": "Python 3.8.13 ('nlp')",
   "language": "python",
   "name": "python3"
  },
  "language_info": {
   "codemirror_mode": {
    "name": "ipython",
    "version": 3
   },
   "file_extension": ".py",
   "mimetype": "text/x-python",
   "name": "python",
   "nbconvert_exporter": "python",
   "pygments_lexer": "ipython3",
   "version": "3.8.13"
  },
  "orig_nbformat": 4
 },
 "nbformat": 4,
 "nbformat_minor": 2
}
